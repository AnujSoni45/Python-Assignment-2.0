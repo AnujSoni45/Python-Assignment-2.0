{
 "cells": [
  {
   "cell_type": "code",
   "execution_count": null,
   "id": "7a118180-bdac-49fa-8390-5f7d3549222b",
   "metadata": {},
   "outputs": [],
   "source": [
    "Q1. How do you comment code in Python? What are the different types of comments?"
   ]
  },
  {
   "cell_type": "code",
   "execution_count": null,
   "id": "2652cd1d-32c9-4935-872c-3be5fe2c7439",
   "metadata": {},
   "outputs": [],
   "source": [
    "# This is a single-line comment in Python\n",
    "print(\"Hello, World!\") #This is a comment\n",
    "\n",
    "'''\n",
    "This is a multi-line comment\n",
    "It can span multiple lines\n",
    "'''\n",
    "print(\"Hello, World!\")"
   ]
  },
  {
   "cell_type": "code",
   "execution_count": null,
   "id": "12edfef0-a9f8-4648-9600-4a3dccc2b1ab",
   "metadata": {},
   "outputs": [],
   "source": [
    "Q2. What are variables in Python? How do you declare and assign values to variables?"
   ]
  },
  {
   "cell_type": "code",
   "execution_count": null,
   "id": "75e05b92-d75f-420b-a916-dafbbbb0aaac",
   "metadata": {},
   "outputs": [],
   "source": [
    "In Python, variables are used to store and manipulate data. \n",
    "They act as containers that hold values of various types, \n",
    "such as numbers, strings, lists, or more complex objects.\n",
    "\n",
    "To declare and assign values to variables in Python :\n",
    "    variable_name = value\n",
    "Here, variable_name is the name you choose for your variable, and value is the data or \n",
    "expression that you want to assign to the variable. For example:\n",
    "    name = \"John\"\n",
    "    age = 25\n",
    "    pi = 3.14159"
   ]
  },
  {
   "cell_type": "code",
   "execution_count": null,
   "id": "b65418a7-865e-491a-a160-b8f5d5e17885",
   "metadata": {},
   "outputs": [],
   "source": [
    "Q3. How do you convert one data type to another in Python?"
   ]
  },
  {
   "cell_type": "code",
   "execution_count": null,
   "id": "da076e59-ba0b-4e3c-b3c8-f7fad848dff6",
   "metadata": {},
   "outputs": [],
   "source": [
    "In Python, you can convert one data type to another using type conversion functions or by using constructors \n",
    "of the target data type. For example :\n",
    "\n",
    "# Convert a string to an integer\n",
    "int(\"123\")\n",
    "\n",
    "# Convert a float to an integer\n",
    "int(1.23)\n",
    "\n",
    "# Convert a string to a float\n",
    "float(\"1.23\")\n",
    "\n",
    "# Convert an integer to a string\n",
    "str(123)\n",
    "\n",
    "# Convert a boolean to a string\n",
    "str(True)\n",
    "\n",
    "# Convert a string to a boolean\n",
    "bool(\"True\")"
   ]
  },
  {
   "cell_type": "code",
   "execution_count": null,
   "id": "c62e5dc0-27f9-4b36-b7e0-27aaaf522ff3",
   "metadata": {},
   "outputs": [],
   "source": [
    "Q4. How do you write and execute a Python script from the command line?"
   ]
  },
  {
   "cell_type": "code",
   "execution_count": null,
   "id": "5ca4fb0d-876d-445a-a406-8a30a33e6421",
   "metadata": {},
   "outputs": [],
   "source": [
    "To write and execute a Python script from the command line, you can follow these steps:\n",
    "\n",
    ">Create a new file with a .py extension.\n",
    ">Write your Python code in the file.\n",
    ">Save the file.\n",
    ">Open a command prompt or terminal window.\n",
    ">Navigate to the directory where you saved your Python script.\n",
    ">Run the following command:"
   ]
  },
  {
   "cell_type": "code",
   "execution_count": null,
   "id": "04f5cdde-4e86-488c-86b3-61c6db65aed5",
   "metadata": {},
   "outputs": [],
   "source": [
    "Q5. Given a list my_list = [1, 2, 3, 4, 5], write the code to slice the list and obtain the sub-list [2, 3]"
   ]
  },
  {
   "cell_type": "code",
   "execution_count": null,
   "id": "546f229e-ce25-47cf-9c92-b3c30b052bd2",
   "metadata": {},
   "outputs": [],
   "source": [
    "my_list = [1, 2, 3, 4, 5]\n",
    "sub_list = my_list[1:3]\n",
    "print(sub_list)\n",
    "Output:\n",
    "    [2, 3]\n"
   ]
  },
  {
   "cell_type": "code",
   "execution_count": null,
   "id": "200318e3-27c5-4944-9ca1-0131d06433c4",
   "metadata": {},
   "outputs": [],
   "source": [
    "Q6. What is a complex number in mathematics, and how is it represented in Python"
   ]
  },
  {
   "cell_type": "code",
   "execution_count": null,
   "id": "0e42ff8a-2a60-462a-ad71-a7ca848768f9",
   "metadata": {},
   "outputs": [],
   "source": [
    "n mathematics, a complex number is a number that can be expressed in the form a + bi, where a and b \n",
    "are real numbers, and i represents the imaginary unit.\n",
    "# Using the complex class\n",
    "z1 = complex(2, 3)  # 2 + 3i\n",
    "z2 = complex(-1, 5)  # -1 + 5i\n",
    "\n",
    "# Using the j or J suffix\n",
    "z3 = 4 + 2j  # 4 + 2i\n",
    "z4 = -3 - 7J  # -3 - 7i"
   ]
  },
  {
   "cell_type": "code",
   "execution_count": null,
   "id": "06c0077d-f648-49cb-99aa-150db03244f2",
   "metadata": {},
   "outputs": [],
   "source": [
    "Q7. What is the correct way to declare a variable named age and assign the value 25 to it?"
   ]
  },
  {
   "cell_type": "code",
   "execution_count": null,
   "id": "59a4a05d-808d-4b4c-b82d-72215fe2cf2a",
   "metadata": {},
   "outputs": [],
   "source": [
    "In Python, you can declare a variable named age and assign the value 25 to it using the following syntax:\n",
    "    age = 25"
   ]
  },
  {
   "cell_type": "code",
   "execution_count": null,
   "id": "04df0932-446d-410c-b229-4065a3703d94",
   "metadata": {},
   "outputs": [],
   "source": [
    "Q8. Declare a variable named price and assign the value 9.99 to it. What data type does this variable \n",
    "belong to?"
   ]
  },
  {
   "cell_type": "code",
   "execution_count": null,
   "id": "77a4423a-6ebd-4cf3-bd4b-8fc80a1c8877",
   "metadata": {},
   "outputs": [],
   "source": [
    "The data type of the variable price is float. A float is a number with a decimal point. \n",
    "In this case, the value of the variable price is 9.99, which is a decimal number.\n",
    "Example:\n",
    "    price = 9.99\n"
   ]
  },
  {
   "cell_type": "code",
   "execution_count": null,
   "id": "1a98e10d-ee63-4b2f-823c-d101bfd951ee",
   "metadata": {},
   "outputs": [],
   "source": [
    "Q9. Create a variable named name and assign your full name to it as a string. How would you print the \n",
    "value of this variable?"
   ]
  },
  {
   "cell_type": "code",
   "execution_count": null,
   "id": "ce24dd71-84e5-4114-b5a6-411c4c5a5f77",
   "metadata": {},
   "outputs": [],
   "source": [
    "name = \"Your Full Name\"\n",
    "Replace \"Your Full Name\" with your actual full name inside the double quotes.\n",
    "To print the value of the name variable, you can use the print() function in Python. \n",
    "Example:\n",
    "    print(name)"
   ]
  },
  {
   "cell_type": "code",
   "execution_count": null,
   "id": "945412d5-dd84-4f17-b5ca-2376c5a88ff7",
   "metadata": {},
   "outputs": [],
   "source": [
    "Q10. Given the string \"Hello, World!\", extract the substring \"World\""
   ]
  },
  {
   "cell_type": "code",
   "execution_count": null,
   "id": "ef8f44f8-a1c7-4bb9-aa5d-68050a0bc53a",
   "metadata": {},
   "outputs": [],
   "source": [
    "string = \"Hello, World!\"\n",
    "substring = string[7:12]\n",
    "print(substring)\n",
    "Output:\n",
    "    World"
   ]
  },
  {
   "cell_type": "code",
   "execution_count": null,
   "id": "94bee8b9-a0cd-49fe-961d-61ccd420cad7",
   "metadata": {},
   "outputs": [],
   "source": [
    "Q11. Create a variable named \"is_student\" and assign it a boolean value indicating whether you are \n",
    "currently a student or not"
   ]
  },
  {
   "cell_type": "code",
   "execution_count": null,
   "id": "2f9e4895-e47f-4d72-b0f8-39e80256c291",
   "metadata": {},
   "outputs": [],
   "source": [
    "is_student = True\n",
    "Replace True with False if you are not currently a student.\n",
    "You can use the print() function to display the value of the is_student variable:\n",
    "Output:\n",
    "    print(is_student)\n"
   ]
  }
 ],
 "metadata": {
  "kernelspec": {
   "display_name": "Python 3 (ipykernel)",
   "language": "python",
   "name": "python3"
  },
  "language_info": {
   "codemirror_mode": {
    "name": "ipython",
    "version": 3
   },
   "file_extension": ".py",
   "mimetype": "text/x-python",
   "name": "python",
   "nbconvert_exporter": "python",
   "pygments_lexer": "ipython3",
   "version": "3.10.8"
  }
 },
 "nbformat": 4,
 "nbformat_minor": 5
}
